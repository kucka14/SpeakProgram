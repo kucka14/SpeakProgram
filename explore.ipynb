{
 "cells": [
  {
   "cell_type": "code",
   "execution_count": 1,
   "metadata": {},
   "outputs": [],
   "source": [
    "import importlib\n",
    "import association_map as am\n",
    "import numpy as np"
   ]
  },
  {
   "cell_type": "code",
   "execution_count": 2,
   "metadata": {},
   "outputs": [],
   "source": [
    "with open('1000-most-common-words.txt', 'r') as f:\n",
    "    tokens = f.readlines()\n",
    "with open('alice_in_wonderland.txt', 'r') as f:\n",
    "    alice_text = f.read()\n",
    "with open('count_of_monte_cristo.txt', 'r') as f:\n",
    "    monte_cristo_text = f.read()"
   ]
  },
  {
   "cell_type": "code",
   "execution_count": 3,
   "metadata": {},
   "outputs": [
    {
     "data": {
      "text/plain": [
       "<module 'association_map' from '/home/andy/Documents/Speak/association_map.py'>"
      ]
     },
     "execution_count": 3,
     "metadata": {},
     "output_type": "execute_result"
    }
   ],
   "source": [
    "importlib.reload(am)"
   ]
  },
  {
   "cell_type": "code",
   "execution_count": 4,
   "metadata": {},
   "outputs": [],
   "source": [
    "association_map = am.AssociationMap(tokens)"
   ]
  },
  {
   "cell_type": "code",
   "execution_count": 5,
   "metadata": {},
   "outputs": [
    {
     "name": "stdout",
     "output_type": "stream",
     "text": [
      "100.00%\n"
     ]
    }
   ],
   "source": [
    "association_map.add_text(alice_text)"
   ]
  },
  {
   "cell_type": "code",
   "execution_count": 6,
   "metadata": {},
   "outputs": [
    {
     "name": "stdout",
     "output_type": "stream",
     "text": [
      "0.00%\r"
     ]
    },
    {
     "name": "stdout",
     "output_type": "stream",
     "text": [
      "100.00%\n"
     ]
    }
   ],
   "source": [
    "association_map.standardize_token_map()"
   ]
  },
  {
   "cell_type": "code",
   "execution_count": 20,
   "metadata": {},
   "outputs": [
    {
     "name": "stdout",
     "output_type": "stream",
     "text": [
      "{'glass': 1, 'water': 1, 'table': 0.5515203425149692, 'little': 0.07583312529380169, 'more': 0.04079738548972226, 'through': 0.03484955521563809, 'number': 0.03431869281539987, 'now': 0.027019161327679904, 'key': 0.024777396850710825, 'of': 0.03778201938410044, 'salt': 0.8495754519185029, 'draw': 0.059531751479774665, 'out': 0.019185865324591538, 'you': 0.013631587202601101, 'sudden': 0.011752072484209649, 'idea': 0.006777688937998096, 'her': 0.004821680620538538}\n"
     ]
    }
   ],
   "source": [
    "print(am.get_related_tokens(association_map, 'glass water', 4))"
   ]
  }
 ],
 "metadata": {
  "kernelspec": {
   "display_name": "ds1",
   "language": "python",
   "name": "python3"
  },
  "language_info": {
   "codemirror_mode": {
    "name": "ipython",
    "version": 3
   },
   "file_extension": ".py",
   "mimetype": "text/x-python",
   "name": "python",
   "nbconvert_exporter": "python",
   "pygments_lexer": "ipython3",
   "version": "3.12.4"
  }
 },
 "nbformat": 4,
 "nbformat_minor": 2
}
